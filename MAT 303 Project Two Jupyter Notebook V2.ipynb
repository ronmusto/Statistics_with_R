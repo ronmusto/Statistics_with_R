{
 "cells": [
  {
   "cell_type": "markdown",
   "metadata": {
    "deletable": false,
    "editable": false
   },
   "source": [
    "# Project Two: Logistic Regression and Random Forests\n",
    "\n",
    "For Project Two, you have been asked to create different models analyzing a Heart Disease data set. Before beginning work on the project, be sure to read through the Project Two Guidelines and Rubric to understand what you need to do and how you will be graded on this assignment. Be sure to carefully review the Project Two Summary Report template, which contains all of the questions that you will need to answer about the regression analyses you are performing.\n",
    "\n",
    "For this project, you will be writing all the scripts yourself. You may reference the textbook and your previous work on the problem sets to help you write the scripts.\n",
    "\n",
    "\n",
    "### Scenario\n",
    "\n",
    "You are a data analyst researching risk factors for heart disease at a university hospital. You have access to a large set of historical data that you can use to analyze patterns between different health indicators (e.g. fasting blood sugar, maximum heart rate, etc.) and the presence of heart disease. You have been asked to create different logistic regression models that predict whether or not a person is at risk for heart disease. A model like this could eventually be used to evaluate medical records and look for risks that might not be obvious to human doctors. You have also been asked to create a classification random forest model to predict the risk of heart disease and a regression random forest model to predict the maximum heart rate achieved.\n",
    "\n",
    "There are several variables in this data set, but you will be working with the following important variables: \n",
    "\n",
    "| <div style=\"text-align: left\"> Variable </div>  |   <div style=\"text-align: left\"> What does it represent? </div> |\n",
    "| -- | --  |\n",
    "| <div style=\"text-align: left\"> age </div> | <div style=\"text-align: left\"> The person's age in years </div> |\n",
    "| <div style=\"text-align: left\"> sex </div> | <div style=\"text-align: left\"> The person's sex (1 = male, 0 = female) </div> |\n",
    "| <div style=\"text-align: left\"> cp </div> | <div style=\"text-align: left\"> The type of chest pain experienced (0=no pain, 1=typical angina, 2=atypical angina, 3=non-anginal pain) </div> |\n",
    "| <div style=\"text-align: left\"> trestbps </div> | <div style=\"text-align: left\"> The person's resting blood pressure </div> |\n",
    "| <div style=\"text-align: left\"> chol </div> | <div style=\"text-align: left\"> The person's cholesterol measurement in mg/dl </div> |\n",
    "| <div style=\"text-align: left\"> fbs </div> | <div style=\"text-align: left\"> The person's fasting blood sugar is greater than 120 mg/dl (1 = true, 0 = false) </div> |\n",
    "| <div style=\"text-align: left\"> restecg </div> | <div style=\"text-align: left\"> Resting electrocardiographic measurement (0=normal, 1=having ST-T wave abnormality, 2=showing probable or definite left ventricular hypertrophy by Estes' criteria) </div> |\n",
    "| <div style=\"text-align: left\"> thalach </div> | <div style=\"text-align: left\"> The person's maximum heart rate achieved </div> |\n",
    "| <div style=\"text-align: left\"> exang </div> | <div style=\"text-align: left\"> Exercise-induced angina (1=yes, 0=no) </div> |\n",
    "| <div style=\"text-align: left\"> oldpeak </div> | <div style=\"text-align: left\"> ST depression induced by exercise relative to rest ('ST' relates to positions on the ECG plot) </div> |\n",
    "| <div style=\"text-align: left\"> slope </div> | <div style=\"text-align: left\"> The slope of the peak exercise ST segment (1=upsloping, 2=flat, 3=downsloping) </div> |\n",
    "| <div style=\"text-align: left\"> ca </div> | <div style=\"text-align: left\"> The number of major vessels (0-3) </div> |\n",
    "| <div style=\"text-align: left\"> target </div> | <div style=\"text-align: left\"> Heart disease (0=no, 1=yes) </div> |\n",
    "\n",
    "**---------------------------------------------------------------------------------------------------------------------------**"
   ]
  },
  {
   "cell_type": "markdown",
   "metadata": {
    "deletable": false,
    "editable": false
   },
   "source": [
    "## Install Libraries\n",
    "In the following code block, you will install appropriate libraries to use in this project. \n",
    "\n",
    "Click the **Run** button on the toolbar to run this code.\n",
    "<br><br>\n",
    "<font color='red'>**Note:** The code section below will first install three R packages: \"ResourceSelection\", \"pROC\" and \"rpart.plot\". Please do not move to the next step until the packages are fully installed. This will take some time. Once the installation is complete, this step will print first 6 rows of the data set.</font>"
   ]
  },
  {
   "cell_type": "code",
   "execution_count": 1,
   "metadata": {
    "deletable": false,
    "editable": false
   },
   "outputs": [
    {
     "name": "stdout",
     "output_type": "stream",
     "text": [
      "[1] \"This step will first install three R packages. Please wait until the packages are fully installed.\"\n",
      "[1] \"Once the installation is complete, this step will print 'Installation complete!'\"\n"
     ]
    },
    {
     "name": "stderr",
     "output_type": "stream",
     "text": [
      "Installing package into '/home/codio/R/x86_64-pc-linux-gnu-library/3.4'\n",
      "(as 'lib' is unspecified)\n",
      "Installing package into '/home/codio/R/x86_64-pc-linux-gnu-library/3.4'\n",
      "(as 'lib' is unspecified)\n",
      "Installing package into '/home/codio/R/x86_64-pc-linux-gnu-library/3.4'\n",
      "(as 'lib' is unspecified)\n"
     ]
    },
    {
     "name": "stdout",
     "output_type": "stream",
     "text": [
      "[1] \"Installation complete!\"\n"
     ]
    }
   ],
   "source": [
    "print(\"This step will first install three R packages. Please wait until the packages are fully installed.\")\n",
    "print(\"Once the installation is complete, this step will print 'Installation complete!'\")\n",
    "\n",
    "install.packages(\"ResourceSelection\")\n",
    "install.packages(\"pROC\")\n",
    "install.packages(\"rpart.plot\")\n",
    "\n",
    "print(\"Installation complete!\")"
   ]
  },
  {
   "cell_type": "markdown",
   "metadata": {
    "deletable": false,
    "editable": false
   },
   "source": [
    "## Prepare Your Data Set\n",
    "\n",
    "In the following code block, you have been given the R code to prepare your data set.\n",
    "\n",
    "Click the **Run** button on the toolbar to run this code."
   ]
  },
  {
   "cell_type": "code",
   "execution_count": 2,
   "metadata": {
    "deletable": false,
    "editable": false
   },
   "outputs": [
    {
     "data": {
      "text/html": [
       "<table>\n",
       "<caption>A data.frame: 10 × 14</caption>\n",
       "<thead>\n",
       "\t<tr><th scope=col>age</th><th scope=col>sex</th><th scope=col>cp</th><th scope=col>trestbps</th><th scope=col>chol</th><th scope=col>fbs</th><th scope=col>restecg</th><th scope=col>thalach</th><th scope=col>exang</th><th scope=col>oldpeak</th><th scope=col>slope</th><th scope=col>ca</th><th scope=col>thal</th><th scope=col>target</th></tr>\n",
       "\t<tr><th scope=col>&lt;int&gt;</th><th scope=col>&lt;fct&gt;</th><th scope=col>&lt;fct&gt;</th><th scope=col>&lt;int&gt;</th><th scope=col>&lt;int&gt;</th><th scope=col>&lt;fct&gt;</th><th scope=col>&lt;fct&gt;</th><th scope=col>&lt;int&gt;</th><th scope=col>&lt;fct&gt;</th><th scope=col>&lt;dbl&gt;</th><th scope=col>&lt;fct&gt;</th><th scope=col>&lt;fct&gt;</th><th scope=col>&lt;fct&gt;</th><th scope=col>&lt;fct&gt;</th></tr>\n",
       "</thead>\n",
       "<tbody>\n",
       "\t<tr><td>62</td><td>1</td><td>2</td><td>130</td><td>231</td><td>0</td><td>1</td><td>146</td><td>0</td><td>1.8</td><td>1</td><td>3</td><td>3</td><td>1</td></tr>\n",
       "\t<tr><td>58</td><td>0</td><td>0</td><td>130</td><td>197</td><td>0</td><td>1</td><td>131</td><td>0</td><td>0.6</td><td>1</td><td>0</td><td>2</td><td>1</td></tr>\n",
       "\t<tr><td>60</td><td>0</td><td>3</td><td>150</td><td>240</td><td>0</td><td>1</td><td>171</td><td>0</td><td>0.9</td><td>2</td><td>0</td><td>2</td><td>1</td></tr>\n",
       "\t<tr><td>63</td><td>1</td><td>0</td><td>140</td><td>187</td><td>0</td><td>0</td><td>144</td><td>1</td><td>4.0</td><td>2</td><td>2</td><td>3</td><td>0</td></tr>\n",
       "\t<tr><td>62</td><td>1</td><td>0</td><td>120</td><td>267</td><td>0</td><td>1</td><td> 99</td><td>1</td><td>1.8</td><td>1</td><td>2</td><td>3</td><td>0</td></tr>\n",
       "\t<tr><td>63</td><td>0</td><td>2</td><td>135</td><td>252</td><td>0</td><td>0</td><td>172</td><td>0</td><td>0.0</td><td>2</td><td>0</td><td>2</td><td>1</td></tr>\n",
       "\t<tr><td>43</td><td>1</td><td>0</td><td>150</td><td>247</td><td>0</td><td>1</td><td>171</td><td>0</td><td>1.5</td><td>2</td><td>0</td><td>2</td><td>1</td></tr>\n",
       "\t<tr><td>42</td><td>1</td><td>2</td><td>120</td><td>240</td><td>1</td><td>1</td><td>194</td><td>0</td><td>0.8</td><td>0</td><td>0</td><td>3</td><td>1</td></tr>\n",
       "\t<tr><td>59</td><td>1</td><td>2</td><td>126</td><td>218</td><td>1</td><td>1</td><td>134</td><td>0</td><td>2.2</td><td>1</td><td>1</td><td>1</td><td>0</td></tr>\n",
       "\t<tr><td>48</td><td>1</td><td>0</td><td>124</td><td>274</td><td>0</td><td>0</td><td>166</td><td>0</td><td>0.5</td><td>1</td><td>0</td><td>3</td><td>0</td></tr>\n",
       "</tbody>\n",
       "</table>\n"
      ],
      "text/latex": [
       "A data.frame: 10 × 14\n",
       "\\begin{tabular}{r|llllllllllllll}\n",
       " age & sex & cp & trestbps & chol & fbs & restecg & thalach & exang & oldpeak & slope & ca & thal & target\\\\\n",
       " <int> & <fct> & <fct> & <int> & <int> & <fct> & <fct> & <int> & <fct> & <dbl> & <fct> & <fct> & <fct> & <fct>\\\\\n",
       "\\hline\n",
       "\t 62 & 1 & 2 & 130 & 231 & 0 & 1 & 146 & 0 & 1.8 & 1 & 3 & 3 & 1\\\\\n",
       "\t 58 & 0 & 0 & 130 & 197 & 0 & 1 & 131 & 0 & 0.6 & 1 & 0 & 2 & 1\\\\\n",
       "\t 60 & 0 & 3 & 150 & 240 & 0 & 1 & 171 & 0 & 0.9 & 2 & 0 & 2 & 1\\\\\n",
       "\t 63 & 1 & 0 & 140 & 187 & 0 & 0 & 144 & 1 & 4.0 & 2 & 2 & 3 & 0\\\\\n",
       "\t 62 & 1 & 0 & 120 & 267 & 0 & 1 &  99 & 1 & 1.8 & 1 & 2 & 3 & 0\\\\\n",
       "\t 63 & 0 & 2 & 135 & 252 & 0 & 0 & 172 & 0 & 0.0 & 2 & 0 & 2 & 1\\\\\n",
       "\t 43 & 1 & 0 & 150 & 247 & 0 & 1 & 171 & 0 & 1.5 & 2 & 0 & 2 & 1\\\\\n",
       "\t 42 & 1 & 2 & 120 & 240 & 1 & 1 & 194 & 0 & 0.8 & 0 & 0 & 3 & 1\\\\\n",
       "\t 59 & 1 & 2 & 126 & 218 & 1 & 1 & 134 & 0 & 2.2 & 1 & 1 & 1 & 0\\\\\n",
       "\t 48 & 1 & 0 & 124 & 274 & 0 & 0 & 166 & 0 & 0.5 & 1 & 0 & 3 & 0\\\\\n",
       "\\end{tabular}\n"
      ],
      "text/markdown": [
       "\n",
       "A data.frame: 10 × 14\n",
       "\n",
       "| age &lt;int&gt; | sex &lt;fct&gt; | cp &lt;fct&gt; | trestbps &lt;int&gt; | chol &lt;int&gt; | fbs &lt;fct&gt; | restecg &lt;fct&gt; | thalach &lt;int&gt; | exang &lt;fct&gt; | oldpeak &lt;dbl&gt; | slope &lt;fct&gt; | ca &lt;fct&gt; | thal &lt;fct&gt; | target &lt;fct&gt; |\n",
       "|---|---|---|---|---|---|---|---|---|---|---|---|---|---|\n",
       "| 62 | 1 | 2 | 130 | 231 | 0 | 1 | 146 | 0 | 1.8 | 1 | 3 | 3 | 1 |\n",
       "| 58 | 0 | 0 | 130 | 197 | 0 | 1 | 131 | 0 | 0.6 | 1 | 0 | 2 | 1 |\n",
       "| 60 | 0 | 3 | 150 | 240 | 0 | 1 | 171 | 0 | 0.9 | 2 | 0 | 2 | 1 |\n",
       "| 63 | 1 | 0 | 140 | 187 | 0 | 0 | 144 | 1 | 4.0 | 2 | 2 | 3 | 0 |\n",
       "| 62 | 1 | 0 | 120 | 267 | 0 | 1 |  99 | 1 | 1.8 | 1 | 2 | 3 | 0 |\n",
       "| 63 | 0 | 2 | 135 | 252 | 0 | 0 | 172 | 0 | 0.0 | 2 | 0 | 2 | 1 |\n",
       "| 43 | 1 | 0 | 150 | 247 | 0 | 1 | 171 | 0 | 1.5 | 2 | 0 | 2 | 1 |\n",
       "| 42 | 1 | 2 | 120 | 240 | 1 | 1 | 194 | 0 | 0.8 | 0 | 0 | 3 | 1 |\n",
       "| 59 | 1 | 2 | 126 | 218 | 1 | 1 | 134 | 0 | 2.2 | 1 | 1 | 1 | 0 |\n",
       "| 48 | 1 | 0 | 124 | 274 | 0 | 0 | 166 | 0 | 0.5 | 1 | 0 | 3 | 0 |\n",
       "\n"
      ],
      "text/plain": [
       "   age sex cp trestbps chol fbs restecg thalach exang oldpeak slope ca thal\n",
       "1  62  1   2  130      231  0   1       146     0     1.8     1     3  3   \n",
       "2  58  0   0  130      197  0   1       131     0     0.6     1     0  2   \n",
       "3  60  0   3  150      240  0   1       171     0     0.9     2     0  2   \n",
       "4  63  1   0  140      187  0   0       144     1     4.0     2     2  3   \n",
       "5  62  1   0  120      267  0   1        99     1     1.8     1     2  3   \n",
       "6  63  0   2  135      252  0   0       172     0     0.0     2     0  2   \n",
       "7  43  1   0  150      247  0   1       171     0     1.5     2     0  2   \n",
       "8  42  1   2  120      240  1   1       194     0     0.8     0     0  3   \n",
       "9  59  1   2  126      218  1   1       134     0     2.2     1     1  1   \n",
       "10 48  1   0  124      274  0   0       166     0     0.5     1     0  3   \n",
       "   target\n",
       "1  1     \n",
       "2  1     \n",
       "3  1     \n",
       "4  0     \n",
       "5  0     \n",
       "6  1     \n",
       "7  1     \n",
       "8  1     \n",
       "9  0     \n",
       "10 0     "
      ]
     },
     "metadata": {},
     "output_type": "display_data"
    },
    {
     "name": "stdout",
     "output_type": "stream",
     "text": [
      "[1] \"Number of variables\"\n"
     ]
    },
    {
     "data": {
      "text/html": [
       "14"
      ],
      "text/latex": [
       "14"
      ],
      "text/markdown": [
       "14"
      ],
      "text/plain": [
       "[1] 14"
      ]
     },
     "metadata": {},
     "output_type": "display_data"
    },
    {
     "name": "stdout",
     "output_type": "stream",
     "text": [
      "[1] \"Number of rows\"\n"
     ]
    },
    {
     "data": {
      "text/html": [
       "303"
      ],
      "text/latex": [
       "303"
      ],
      "text/markdown": [
       "303"
      ],
      "text/plain": [
       "[1] 303"
      ]
     },
     "metadata": {},
     "output_type": "display_data"
    }
   ],
   "source": [
    "heart_data <- read.csv(file=\"heart_disease.csv\", header=TRUE, sep=\",\")\n",
    "\n",
    "# Converting appropriate variables to factors  \n",
    "heart_data <- within(heart_data, {\n",
    "   target <- factor(target)\n",
    "   sex <- factor(sex)\n",
    "   cp <- factor(cp)\n",
    "   fbs <- factor(fbs)\n",
    "   restecg <- factor(restecg)\n",
    "   exang <- factor(exang)\n",
    "   slope <- factor(slope)\n",
    "   ca <- factor(ca)\n",
    "   thal <- factor(thal)\n",
    "})\n",
    "\n",
    "head(heart_data, 10)\n",
    "\n",
    "print(\"Number of variables\")\n",
    "ncol(heart_data)\n",
    "\n",
    "print(\"Number of rows\")\n",
    "nrow(heart_data)"
   ]
  },
  {
   "cell_type": "markdown",
   "metadata": {},
   "source": [
    " "
   ]
  },
  {
   "cell_type": "markdown",
   "metadata": {
    "deletable": false,
    "editable": false
   },
   "source": [
    "## Model #1 - First Logistic Regression Model\n",
    "\n",
    "You have been asked to create a logistic regression model for heart disease *(target)* using the variables age *(age)*, resting blood pressure *(trestbps)*, and maximum heart rate achieved *(thalach)*. Before writing any code, review Section 3 of the Summary Report template to see the questions you will be answering about your logistic regression model.\n",
    "\n",
    "Run your scripts to get the outputs of your regression analysis. Then use the outputs to answer the questions in your summary report.\n",
    "\n",
    "**Note: Use the + (plus) button to add new code blocks, if needed.**"
   ]
  },
  {
   "cell_type": "code",
   "execution_count": 3,
   "metadata": {
    "scrolled": true
   },
   "outputs": [
    {
     "data": {
      "text/plain": [
       "\n",
       "Call:\n",
       "glm(formula = target ~ age + trestbps + exang + thalach, family = \"binomial\", \n",
       "    data = heart_data)\n",
       "\n",
       "Deviance Residuals: \n",
       "    Min       1Q   Median       3Q      Max  \n",
       "-2.0935  -0.7944   0.4954   0.8133   2.2343  \n",
       "\n",
       "Coefficients:\n",
       "             Estimate Std. Error z value Pr(>|z|)    \n",
       "(Intercept) -1.021121   1.784194  -0.572   0.5671    \n",
       "age         -0.017549   0.017144  -1.024   0.3060    \n",
       "trestbps    -0.014888   0.008337  -1.786   0.0741 .  \n",
       "exang1      -1.624981   0.305774  -5.314 1.07e-07 ***\n",
       "thalach      0.031095   0.007275   4.274 1.92e-05 ***\n",
       "---\n",
       "Signif. codes:  0 '***' 0.001 '**' 0.01 '*' 0.05 '.' 0.1 ' ' 1\n",
       "\n",
       "(Dispersion parameter for binomial family taken to be 1)\n",
       "\n",
       "    Null deviance: 417.64  on 302  degrees of freedom\n",
       "Residual deviance: 323.14  on 298  degrees of freedom\n",
       "AIC: 333.14\n",
       "\n",
       "Number of Fisher Scoring iterations: 4\n"
      ]
     },
     "metadata": {},
     "output_type": "display_data"
    }
   ],
   "source": [
    "# Create the complete model\n",
    "logit <- glm(target ~ age + trestbps + exang + thalach , data = heart_data, family = \"binomial\")\n",
    "\n",
    "summary(logit)"
   ]
  },
  {
   "cell_type": "code",
   "execution_count": 4,
   "metadata": {},
   "outputs": [
    {
     "name": "stderr",
     "output_type": "stream",
     "text": [
      "ResourceSelection 0.3-5 \t 2019-07-22\n"
     ]
    },
    {
     "name": "stdout",
     "output_type": "stream",
     "text": [
      "[1] \"Hosmer-Lemeshow Goodness of Fit Test\"\n"
     ]
    },
    {
     "data": {
      "text/plain": [
       "\n",
       "\tHosmer and Lemeshow goodness of fit (GOF) test\n",
       "\n",
       "data:  logit$y, fitted(logit)\n",
       "X-squared = 44.622, df = 48, p-value = 0.612\n"
      ]
     },
     "metadata": {},
     "output_type": "display_data"
    }
   ],
   "source": [
    "library(ResourceSelection)\n",
    "\n",
    "\n",
    "print(\"Hosmer-Lemeshow Goodness of Fit Test\")\n",
    "hl = hoslem.test(logit$y, fitted(logit), g=50)\n",
    "hl"
   ]
  },
  {
   "cell_type": "code",
   "execution_count": 5,
   "metadata": {},
   "outputs": [
    {
     "data": {
      "text/html": [
       "<table>\n",
       "<caption>A matrix: 5 × 2 of type dbl</caption>\n",
       "<thead>\n",
       "\t<tr><th></th><th scope=col>2.5 %</th><th scope=col>97.5 %</th></tr>\n",
       "</thead>\n",
       "<tbody>\n",
       "\t<tr><th scope=row>(Intercept)</th><td>-4.5181</td><td> 2.4758</td></tr>\n",
       "\t<tr><th scope=row>age</th><td>-0.0512</td><td> 0.0161</td></tr>\n",
       "\t<tr><th scope=row>trestbps</th><td>-0.0312</td><td> 0.0015</td></tr>\n",
       "\t<tr><th scope=row>exang1</th><td>-2.2243</td><td>-1.0257</td></tr>\n",
       "\t<tr><th scope=row>thalach</th><td> 0.0168</td><td> 0.0454</td></tr>\n",
       "</tbody>\n",
       "</table>\n"
      ],
      "text/latex": [
       "A matrix: 5 × 2 of type dbl\n",
       "\\begin{tabular}{r|ll}\n",
       "  & 2.5 \\% & 97.5 \\%\\\\\n",
       "\\hline\n",
       "\t(Intercept) & -4.5181 &  2.4758\\\\\n",
       "\tage & -0.0512 &  0.0161\\\\\n",
       "\ttrestbps & -0.0312 &  0.0015\\\\\n",
       "\texang1 & -2.2243 & -1.0257\\\\\n",
       "\tthalach &  0.0168 &  0.0454\\\\\n",
       "\\end{tabular}\n"
      ],
      "text/markdown": [
       "\n",
       "A matrix: 5 × 2 of type dbl\n",
       "\n",
       "| <!--/--> | 2.5 % | 97.5 % |\n",
       "|---|---|---|\n",
       "| (Intercept) | -4.5181 |  2.4758 |\n",
       "| age | -0.0512 |  0.0161 |\n",
       "| trestbps | -0.0312 |  0.0015 |\n",
       "| exang1 | -2.2243 | -1.0257 |\n",
       "| thalach |  0.0168 |  0.0454 |\n",
       "\n"
      ],
      "text/plain": [
       "            2.5 %   97.5 % \n",
       "(Intercept) -4.5181  2.4758\n",
       "age         -0.0512  0.0161\n",
       "trestbps    -0.0312  0.0015\n",
       "exang1      -2.2243 -1.0257\n",
       "thalach      0.0168  0.0454"
      ]
     },
     "metadata": {},
     "output_type": "display_data"
    }
   ],
   "source": [
    "conf_int <- confint.default(logit, level=0.95)\n",
    "round(conf_int,4)"
   ]
  },
  {
   "cell_type": "code",
   "execution_count": 6,
   "metadata": {
    "scrolled": true
   },
   "outputs": [
    {
     "name": "stdout",
     "output_type": "stream",
     "text": [
      "[1] \"Confusion Matrix\"\n"
     ]
    },
    {
     "data": {
      "text/html": [
       "<table>\n",
       "<caption>A matrix: 2 × 2 of type chr</caption>\n",
       "<thead>\n",
       "\t<tr><th></th><th scope=col>Prediction: default=0</th><th scope=col>Prediction: default=1</th></tr>\n",
       "</thead>\n",
       "<tbody>\n",
       "\t<tr><th scope=row>Actual: default=0</th><td> 89</td><td> 49</td></tr>\n",
       "\t<tr><th scope=row>Actual: default=1</th><td> 31</td><td>134</td></tr>\n",
       "</tbody>\n",
       "</table>\n"
      ],
      "text/latex": [
       "A matrix: 2 × 2 of type chr\n",
       "\\begin{tabular}{r|ll}\n",
       "  & Prediction: default=0 & Prediction: default=1\\\\\n",
       "\\hline\n",
       "\tActual: default=0 &  89 &  49\\\\\n",
       "\tActual: default=1 &  31 & 134\\\\\n",
       "\\end{tabular}\n"
      ],
      "text/markdown": [
       "\n",
       "A matrix: 2 × 2 of type chr\n",
       "\n",
       "| <!--/--> | Prediction: default=0 | Prediction: default=1 |\n",
       "|---|---|---|\n",
       "| Actual: default=0 |  89 |  49 |\n",
       "| Actual: default=1 |  31 | 134 |\n",
       "\n"
      ],
      "text/plain": [
       "                   depvar_pred\n",
       "                    Prediction: default=0 Prediction: default=1\n",
       "  Actual: default=0  89                    49                  \n",
       "  Actual: default=1  31                   134                  "
      ]
     },
     "metadata": {},
     "output_type": "display_data"
    }
   ],
   "source": [
    "# Predict default or no_default for the data set using the model\n",
    "default_model_data <- heart_data[c('age', 'trestbps','exang', 'thalach')]\n",
    "pred <- predict(logit, newdata=default_model_data, type='response')\n",
    "\n",
    "# If the predicted probability of default is >=0.50 then predict credit default (default='1'), otherwise predict no credit \n",
    "# default (default='0') \n",
    "depvar_pred = as.factor(ifelse(pred >= 0.5, '1', '0'))\n",
    "\n",
    "# This creates the confusion matrix\n",
    "conf.matrix <- table(heart_data$target, depvar_pred)[c('0','1'),c('0','1')]\n",
    "rownames(conf.matrix) <- paste(\"Actual\", rownames(conf.matrix), sep = \": default=\")\n",
    "colnames(conf.matrix) <- paste(\"Prediction\", colnames(conf.matrix), sep = \": default=\")\n",
    "\n",
    "# Print nicely formatted confusion matrix\n",
    "print(\"Confusion Matrix\")\n",
    "format(conf.matrix,justify=\"centre\",digit=2)"
   ]
  },
  {
   "cell_type": "code",
   "execution_count": 7,
   "metadata": {},
   "outputs": [
    {
     "name": "stderr",
     "output_type": "stream",
     "text": [
      "Type 'citation(\"pROC\")' for a citation.\n",
      "\n",
      "Attaching package: 'pROC'\n",
      "\n",
      "The following objects are masked from 'package:stats':\n",
      "\n",
      "    cov, smooth, var\n",
      "\n",
      "Setting levels: control = 0, case = 1\n",
      "Setting direction: controls < cases\n"
     ]
    },
    {
     "name": "stdout",
     "output_type": "stream",
     "text": [
      "[1] \"Area Under the Curve (AUC)\"\n"
     ]
    },
    {
     "data": {
      "text/html": [
       "0.8007"
      ],
      "text/latex": [
       "0.8007"
      ],
      "text/markdown": [
       "0.8007"
      ],
      "text/plain": [
       "[1] 0.8007"
      ]
     },
     "metadata": {},
     "output_type": "display_data"
    },
    {
     "name": "stdout",
     "output_type": "stream",
     "text": [
      "[1] \"ROC Curve\"\n"
     ]
    },
    {
     "data": {
      "image/png": "[encoded data removed]",
      "text/plain": [
       "plot without title"
      ]
     },
     "metadata": {},
     "output_type": "display_data"
    }
   ],
   "source": [
    "library(pROC)\n",
    "\n",
    "labels <- heart_data$target\n",
    "predictions <- logit$fitted.values\n",
    "\n",
    "roc <- roc(labels ~ predictions)\n",
    "\n",
    "print(\"Area Under the Curve (AUC)\")\n",
    "round(auc(roc),4)\n",
    "\n",
    "print(\"ROC Curve\")\n",
    "# True Positive Rate (Sensitivity) and False Positive Rate (1 - Specificity)\n",
    "plot(roc, legacy.axes = TRUE)"
   ]
  },
  {
   "cell_type": "code",
   "execution_count": 8,
   "metadata": {},
   "outputs": [
    {
     "data": {
      "text/html": [
       "<strong>1:</strong> 0.2716"
      ],
      "text/latex": [
       "\\textbf{1:} 0.2716"
      ],
      "text/markdown": [
       "**1:** 0.2716"
      ],
      "text/plain": [
       "     1 \n",
       "0.2716 "
      ]
     },
     "metadata": {},
     "output_type": "display_data"
    },
    {
     "data": {
      "text/html": [
       "<strong>1:</strong> 0.7853"
      ],
      "text/latex": [
       "\\textbf{1:} 0.7853"
      ],
      "text/markdown": [
       "**1:** 0.7853"
      ],
      "text/plain": [
       "     1 \n",
       "0.7853 "
      ]
     },
     "metadata": {},
     "output_type": "display_data"
    }
   ],
   "source": [
    "newdata1 <- data.frame(age=50, trestbps=122, exang='1', thalach=140)\n",
    "pred1 <- predict(logit, newdata1, type='response')\n",
    "round(pred1, 4)\n",
    "\n",
    "newdata2 <- data.frame(age=50, trestbps=130, exang='0', thalach=165)\n",
    "pred2 <- predict(logit, newdata2, type='response')\n",
    "round(pred2, 4)"
   ]
  },
  {
   "cell_type": "markdown",
   "metadata": {},
   "source": [
    " "
   ]
  },
  {
   "cell_type": "markdown",
   "metadata": {
    "deletable": false,
    "editable": false
   },
   "source": [
    "## Model #2 - Second Logistic Regression Model\n",
    "\n",
    "You have been asked to create a logistic regression model for heart disease *(target)* using the variables maximum heart rate achieved *(thalach)*, age of the individual *(age)*, sex of the individual *(sex)*, exercise-induced angina *(exang)*, and type of chest pain *(cp)*. You also have to include the quadratic term for age and the interaction term between age and maximum heart rate achieved. Before writing any code, review Section 4 of the Summary Report template to see the questions you will be answering about your model.\n",
    "\n",
    "Run your scripts to get the outputs of your analysis. Then use the outputs to answer the questions in your summary report.\n",
    "\n",
    "**Note: Use the + (plus) button to add new code blocks, if needed.**"
   ]
  },
  {
   "cell_type": "code",
   "execution_count": 9,
   "metadata": {},
   "outputs": [
    {
     "data": {
      "text/plain": [
       "\n",
       "Call:\n",
       "glm(formula = target ~ age + trestbps + cp + thalach + age:thalach + \n",
       "    I(age^2), family = \"binomial\", data = heart_data)\n",
       "\n",
       "Deviance Residuals: \n",
       "    Min       1Q   Median       3Q      Max  \n",
       "-2.6961  -0.7537   0.2925   0.7123   2.3058  \n",
       "\n",
       "Coefficients:\n",
       "              Estimate Std. Error z value Pr(>|z|)    \n",
       "(Intercept) -1.556e+01  1.054e+01  -1.476  0.13988    \n",
       "age          1.744e-01  2.669e-01   0.653  0.51357    \n",
       "trestbps    -1.958e-02  8.978e-03  -2.181  0.02916 *  \n",
       "cp1          1.913e+00  4.437e-01   4.313 1.61e-05 ***\n",
       "cp2          2.037e+00  3.473e-01   5.867 4.45e-09 ***\n",
       "cp3          1.777e+00  5.477e-01   3.245  0.00117 ** \n",
       "thalach      1.363e-01  5.119e-02   2.663  0.00775 ** \n",
       "I(age^2)     8.424e-04  1.750e-03   0.481  0.63025    \n",
       "age:thalach -1.867e-03  8.909e-04  -2.095  0.03616 *  \n",
       "---\n",
       "Signif. codes:  0 '***' 0.001 '**' 0.01 '*' 0.05 '.' 0.1 ' ' 1\n",
       "\n",
       "(Dispersion parameter for binomial family taken to be 1)\n",
       "\n",
       "    Null deviance: 417.64  on 302  degrees of freedom\n",
       "Residual deviance: 293.67  on 294  degrees of freedom\n",
       "AIC: 311.67\n",
       "\n",
       "Number of Fisher Scoring iterations: 5\n"
      ]
     },
     "metadata": {},
     "output_type": "display_data"
    }
   ],
   "source": [
    "logit2 <- glm(target ~ age + trestbps + cp + thalach + age:thalach + I(age^2), data = heart_data, family='binomial')\n",
    "\n",
    "summary(logit2)"
   ]
  },
  {
   "cell_type": "code",
   "execution_count": 10,
   "metadata": {},
   "outputs": [
    {
     "name": "stdout",
     "output_type": "stream",
     "text": [
      "[1] \"Hosmer-Lemeshow Goodness of Fit Test\"\n"
     ]
    },
    {
     "data": {
      "text/plain": [
       "\n",
       "\tHosmer and Lemeshow goodness of fit (GOF) test\n",
       "\n",
       "data:  logit2$y, fitted(logit2)\n",
       "X-squared = 52, df = 48, p-value = 0.3209\n"
      ]
     },
     "metadata": {},
     "output_type": "display_data"
    }
   ],
   "source": [
    "library(ResourceSelection)\n",
    "\n",
    "\n",
    "print(\"Hosmer-Lemeshow Goodness of Fit Test\")\n",
    "hl = hoslem.test(logit2$y, fitted(logit2), g=50)\n",
    "hl"
   ]
  },
  {
   "cell_type": "code",
   "execution_count": 11,
   "metadata": {},
   "outputs": [
    {
     "data": {
      "text/html": [
       "<table>\n",
       "<caption>A matrix: 9 × 2 of type dbl</caption>\n",
       "<thead>\n",
       "\t<tr><th></th><th scope=col>2.5 %</th><th scope=col>97.5 %</th></tr>\n",
       "</thead>\n",
       "<tbody>\n",
       "\t<tr><th scope=row>(Intercept)</th><td>-36.2272</td><td> 5.0999</td></tr>\n",
       "\t<tr><th scope=row>age</th><td> -0.3488</td><td> 0.6975</td></tr>\n",
       "\t<tr><th scope=row>trestbps</th><td> -0.0372</td><td>-0.0020</td></tr>\n",
       "\t<tr><th scope=row>cp1</th><td>  1.0439</td><td> 2.7830</td></tr>\n",
       "\t<tr><th scope=row>cp2</th><td>  1.3566</td><td> 2.7178</td></tr>\n",
       "\t<tr><th scope=row>cp3</th><td>  0.7039</td><td> 2.8507</td></tr>\n",
       "\t<tr><th scope=row>thalach</th><td>  0.0360</td><td> 0.2367</td></tr>\n",
       "\t<tr><th scope=row>I(age^2)</th><td> -0.0026</td><td> 0.0043</td></tr>\n",
       "\t<tr><th scope=row>age:thalach</th><td> -0.0036</td><td>-0.0001</td></tr>\n",
       "</tbody>\n",
       "</table>\n"
      ],
      "text/latex": [
       "A matrix: 9 × 2 of type dbl\n",
       "\\begin{tabular}{r|ll}\n",
       "  & 2.5 \\% & 97.5 \\%\\\\\n",
       "\\hline\n",
       "\t(Intercept) & -36.2272 &  5.0999\\\\\n",
       "\tage &  -0.3488 &  0.6975\\\\\n",
       "\ttrestbps &  -0.0372 & -0.0020\\\\\n",
       "\tcp1 &   1.0439 &  2.7830\\\\\n",
       "\tcp2 &   1.3566 &  2.7178\\\\\n",
       "\tcp3 &   0.7039 &  2.8507\\\\\n",
       "\tthalach &   0.0360 &  0.2367\\\\\n",
       "\tI(age\\textasciicircum{}2) &  -0.0026 &  0.0043\\\\\n",
       "\tage:thalach &  -0.0036 & -0.0001\\\\\n",
       "\\end{tabular}\n"
      ],
      "text/markdown": [
       "\n",
       "A matrix: 9 × 2 of type dbl\n",
       "\n",
       "| <!--/--> | 2.5 % | 97.5 % |\n",
       "|---|---|---|\n",
       "| (Intercept) | -36.2272 |  5.0999 |\n",
       "| age |  -0.3488 |  0.6975 |\n",
       "| trestbps |  -0.0372 | -0.0020 |\n",
       "| cp1 |   1.0439 |  2.7830 |\n",
       "| cp2 |   1.3566 |  2.7178 |\n",
       "| cp3 |   0.7039 |  2.8507 |\n",
       "| thalach |   0.0360 |  0.2367 |\n",
       "| I(age^2) |  -0.0026 |  0.0043 |\n",
       "| age:thalach |  -0.0036 | -0.0001 |\n",
       "\n"
      ],
      "text/plain": [
       "            2.5 %    97.5 % \n",
       "(Intercept) -36.2272  5.0999\n",
       "age          -0.3488  0.6975\n",
       "trestbps     -0.0372 -0.0020\n",
       "cp1           1.0439  2.7830\n",
       "cp2           1.3566  2.7178\n",
       "cp3           0.7039  2.8507\n",
       "thalach       0.0360  0.2367\n",
       "I(age^2)     -0.0026  0.0043\n",
       "age:thalach  -0.0036 -0.0001"
      ]
     },
     "metadata": {},
     "output_type": "display_data"
    }
   ],
   "source": [
    "conf_int <- confint.default(logit2, level=0.95)\n",
    "round(conf_int,4)"
   ]
  },
  {
   "cell_type": "code",
   "execution_count": 12,
   "metadata": {},
   "outputs": [
    {
     "name": "stdout",
     "output_type": "stream",
     "text": [
      "[1] \"Confusion Matrix\"\n"
     ]
    },
    {
     "data": {
      "text/html": [
       "<table>\n",
       "<caption>A matrix: 2 × 2 of type chr</caption>\n",
       "<thead>\n",
       "\t<tr><th></th><th scope=col>Prediction: default=0</th><th scope=col>Prediction: default=1</th></tr>\n",
       "</thead>\n",
       "<tbody>\n",
       "\t<tr><th scope=row>Actual: default=0</th><td>102</td><td> 36</td></tr>\n",
       "\t<tr><th scope=row>Actual: default=1</th><td> 36</td><td>129</td></tr>\n",
       "</tbody>\n",
       "</table>\n"
      ],
      "text/latex": [
       "A matrix: 2 × 2 of type chr\n",
       "\\begin{tabular}{r|ll}\n",
       "  & Prediction: default=0 & Prediction: default=1\\\\\n",
       "\\hline\n",
       "\tActual: default=0 & 102 &  36\\\\\n",
       "\tActual: default=1 &  36 & 129\\\\\n",
       "\\end{tabular}\n"
      ],
      "text/markdown": [
       "\n",
       "A matrix: 2 × 2 of type chr\n",
       "\n",
       "| <!--/--> | Prediction: default=0 | Prediction: default=1 |\n",
       "|---|---|---|\n",
       "| Actual: default=0 | 102 |  36 |\n",
       "| Actual: default=1 |  36 | 129 |\n",
       "\n"
      ],
      "text/plain": [
       "                   depvar_pred\n",
       "                    Prediction: default=0 Prediction: default=1\n",
       "  Actual: default=0 102                    36                  \n",
       "  Actual: default=1  36                   129                  "
      ]
     },
     "metadata": {},
     "output_type": "display_data"
    }
   ],
   "source": [
    "# Predict default or no_default for the data set using the model\n",
    "default_model_data <- heart_data[c('age', 'trestbps','cp', 'thalach')]\n",
    "pred <- predict(logit2, newdata=default_model_data, type='response')\n",
    "\n",
    "# If the predicted probability of default is >=0.50 then predict credit default (default='1'), otherwise predict no credit \n",
    "# default (default='0') \n",
    "depvar_pred = as.factor(ifelse(pred >= 0.5, '1', '0'))\n",
    "\n",
    "# This creates the confusion matrix\n",
    "conf.matrix <- table(heart_data$target, depvar_pred)[c('0','1'),c('0','1')]\n",
    "rownames(conf.matrix) <- paste(\"Actual\", rownames(conf.matrix), sep = \": default=\")\n",
    "colnames(conf.matrix) <- paste(\"Prediction\", colnames(conf.matrix), sep = \": default=\")\n",
    "\n",
    "# Print nicely formatted confusion matrix\n",
    "print(\"Confusion Matrix\")\n",
    "format(conf.matrix,justify=\"centre\",digit=2)"
   ]
  },
  {
   "cell_type": "code",
   "execution_count": 13,
   "metadata": {},
   "outputs": [
    {
     "name": "stderr",
     "output_type": "stream",
     "text": [
      "Setting levels: control = 0, case = 1\n",
      "Setting direction: controls < cases\n"
     ]
    },
    {
     "name": "stdout",
     "output_type": "stream",
     "text": [
      "[1] \"Area Under the Curve (AUC)\"\n"
     ]
    },
    {
     "data": {
      "text/html": [
       "0.8478"
      ],
      "text/latex": [
       "0.8478"
      ],
      "text/markdown": [
       "0.8478"
      ],
      "text/plain": [
       "[1] 0.8478"
      ]
     },
     "metadata": {},
     "output_type": "display_data"
    },
    {
     "name": "stdout",
     "output_type": "stream",
     "text": [
      "[1] \"ROC Curve\"\n"
     ]
    },
    {
     "data": {
      "image/png": "[encoded data removed]",
      "text/plain": [
       "plot without title"
      ]
     },
     "metadata": {},
     "output_type": "display_data"
    }
   ],
   "source": [
    "library(pROC)\n",
    "\n",
    "labels <- heart_data$target\n",
    "predictions <- logit2$fitted.values\n",
    "\n",
    "roc <- roc(labels ~ predictions)\n",
    "\n",
    "print(\"Area Under the Curve (AUC)\")\n",
    "round(auc(roc),4)\n",
    "\n",
    "print(\"ROC Curve\")\n",
    "# True Positive Rate (Sensitivity) and False Positive Rate (1 - Specificity)\n",
    "plot(roc, legacy.axes = TRUE)"
   ]
  },
  {
   "cell_type": "code",
   "execution_count": 14,
   "metadata": {},
   "outputs": [
    {
     "data": {
      "text/html": [
       "<strong>1:</strong> 0.2188"
      ],
      "text/latex": [
       "\\textbf{1:} 0.2188"
      ],
      "text/markdown": [
       "**1:** 0.2188"
      ],
      "text/plain": [
       "     1 \n",
       "0.2188 "
      ]
     },
     "metadata": {},
     "output_type": "display_data"
    },
    {
     "data": {
      "text/html": [
       "<strong>1:</strong> 0.8007"
      ],
      "text/latex": [
       "\\textbf{1:} 0.8007"
      ],
      "text/markdown": [
       "**1:** 0.8007"
      ],
      "text/plain": [
       "     1 \n",
       "0.8007 "
      ]
     },
     "metadata": {},
     "output_type": "display_data"
    }
   ],
   "source": [
    "newdata3 <- data.frame(age=50, trestbps=115, cp='0', thalach=133)\n",
    "pred1 <- predict(logit2, newdata3, type='response')\n",
    "round(pred1, 4)\n",
    "\n",
    "newdata4 <- data.frame(age=50, trestbps=125, cp='1', thalach=155)\n",
    "pred2 <- predict(logit2, newdata4, type='response')\n",
    "round(pred2, 4)"
   ]
  },
  {
   "cell_type": "markdown",
   "metadata": {},
   "source": [
    " "
   ]
  },
  {
   "cell_type": "markdown",
   "metadata": {
    "deletable": false,
    "editable": false
   },
   "source": [
    "## Random Forest Classification Model\n",
    "\n",
    "You have been asked to create a random forest classification model for the presence of heart disease *(target)* using the variables age *(age)*, sex *(sex)*, chest pain type *(cp)*, resting blood pressure *(trestbps)*, cholesterol measurement *(chol)*, resting electrocardiographic measurement *(restecg)*, exercise-induced angina *(exang)*, slope of peak exercise *(slope)*, and number of major vessels *(ca)*. Before writing any code, review Section 5 of the Summary Report template to see the questions you will be answering about your model.\n",
    "\n",
    "Run your scripts to get the outputs of your regression analysis. Then use the outputs to answer the questions in your summary report.\n",
    "\n",
    "**Note: Use the + (plus) button to add new code blocks, if needed.**"
   ]
  },
  {
   "cell_type": "code",
   "execution_count": 15,
   "metadata": {},
   "outputs": [
    {
     "name": "stdout",
     "output_type": "stream",
     "text": [
      "[1] \"head\"\n"
     ]
    },
    {
     "data": {
      "text/html": [
       "<table>\n",
       "<caption>A data.frame: 6 × 9</caption>\n",
       "<thead>\n",
       "\t<tr><th scope=col>target</th><th scope=col>age</th><th scope=col>sex</th><th scope=col>cp</th><th scope=col>trestbps</th><th scope=col>chol</th><th scope=col>restecg</th><th scope=col>exang</th><th scope=col>ca</th></tr>\n",
       "\t<tr><th scope=col>&lt;fct&gt;</th><th scope=col>&lt;int&gt;</th><th scope=col>&lt;fct&gt;</th><th scope=col>&lt;fct&gt;</th><th scope=col>&lt;int&gt;</th><th scope=col>&lt;int&gt;</th><th scope=col>&lt;fct&gt;</th><th scope=col>&lt;fct&gt;</th><th scope=col>&lt;fct&gt;</th></tr>\n",
       "</thead>\n",
       "<tbody>\n",
       "\t<tr><td>1</td><td>62</td><td>1</td><td>2</td><td>130</td><td>231</td><td>1</td><td>0</td><td>3</td></tr>\n",
       "\t<tr><td>1</td><td>58</td><td>0</td><td>0</td><td>130</td><td>197</td><td>1</td><td>0</td><td>0</td></tr>\n",
       "\t<tr><td>1</td><td>60</td><td>0</td><td>3</td><td>150</td><td>240</td><td>1</td><td>0</td><td>0</td></tr>\n",
       "\t<tr><td>0</td><td>63</td><td>1</td><td>0</td><td>140</td><td>187</td><td>0</td><td>1</td><td>2</td></tr>\n",
       "\t<tr><td>0</td><td>62</td><td>1</td><td>0</td><td>120</td><td>267</td><td>1</td><td>1</td><td>2</td></tr>\n",
       "\t<tr><td>1</td><td>63</td><td>0</td><td>2</td><td>135</td><td>252</td><td>0</td><td>0</td><td>0</td></tr>\n",
       "</tbody>\n",
       "</table>\n"
      ],
      "text/latex": [
       "A data.frame: 6 × 9\n",
       "\\begin{tabular}{r|lllllllll}\n",
       " target & age & sex & cp & trestbps & chol & restecg & exang & ca\\\\\n",
       " <fct> & <int> & <fct> & <fct> & <int> & <int> & <fct> & <fct> & <fct>\\\\\n",
       "\\hline\n",
       "\t 1 & 62 & 1 & 2 & 130 & 231 & 1 & 0 & 3\\\\\n",
       "\t 1 & 58 & 0 & 0 & 130 & 197 & 1 & 0 & 0\\\\\n",
       "\t 1 & 60 & 0 & 3 & 150 & 240 & 1 & 0 & 0\\\\\n",
       "\t 0 & 63 & 1 & 0 & 140 & 187 & 0 & 1 & 2\\\\\n",
       "\t 0 & 62 & 1 & 0 & 120 & 267 & 1 & 1 & 2\\\\\n",
       "\t 1 & 63 & 0 & 2 & 135 & 252 & 0 & 0 & 0\\\\\n",
       "\\end{tabular}\n"
      ],
      "text/markdown": [
       "\n",
       "A data.frame: 6 × 9\n",
       "\n",
       "| target &lt;fct&gt; | age &lt;int&gt; | sex &lt;fct&gt; | cp &lt;fct&gt; | trestbps &lt;int&gt; | chol &lt;int&gt; | restecg &lt;fct&gt; | exang &lt;fct&gt; | ca &lt;fct&gt; |\n",
       "|---|---|---|---|---|---|---|---|---|\n",
       "| 1 | 62 | 1 | 2 | 130 | 231 | 1 | 0 | 3 |\n",
       "| 1 | 58 | 0 | 0 | 130 | 197 | 1 | 0 | 0 |\n",
       "| 1 | 60 | 0 | 3 | 150 | 240 | 1 | 0 | 0 |\n",
       "| 0 | 63 | 1 | 0 | 140 | 187 | 0 | 1 | 2 |\n",
       "| 0 | 62 | 1 | 0 | 120 | 267 | 1 | 1 | 2 |\n",
       "| 1 | 63 | 0 | 2 | 135 | 252 | 0 | 0 | 0 |\n",
       "\n"
      ],
      "text/plain": [
       "  target age sex cp trestbps chol restecg exang ca\n",
       "1 1      62  1   2  130      231  1       0     3 \n",
       "2 1      58  0   0  130      197  1       0     0 \n",
       "3 1      60  0   3  150      240  1       0     0 \n",
       "4 0      63  1   0  140      187  0       1     2 \n",
       "5 0      62  1   0  120      267  1       1     2 \n",
       "6 1      63  0   2  135      252  0       0     0 "
      ]
     },
     "metadata": {},
     "output_type": "display_data"
    }
   ],
   "source": [
    "heart_data <- read.csv(file='heart_disease.csv', header=TRUE, sep=\",\")\n",
    "\n",
    "# Converting appropriate variables to factors  \n",
    "heart_data <- within(heart_data, {\n",
    "   target <- factor(target)\n",
    "   sex <- factor(sex)\n",
    "   cp <- factor(cp)\n",
    "   fbs <- factor(fbs)\n",
    "   restecg <- factor(restecg)\n",
    "   exang <- factor(exang)\n",
    "   slope <- factor(slope)\n",
    "   ca <- factor(ca)\n",
    "   thal <- factor(thal)\n",
    "})\n",
    "\n",
    "vars <- c('target','age', 'sex', 'cp', 'trestbps', 'chol', 'restecg', 'exang', 'ca')\n",
    "\n",
    "heart_data <- heart_data[vars]\n",
    "\n",
    "print(\"head\")\n",
    "head(heart_data, 6)"
   ]
  },
  {
   "cell_type": "code",
   "execution_count": 16,
   "metadata": {},
   "outputs": [
    {
     "name": "stdout",
     "output_type": "stream",
     "text": [
      "[1] \"Number of rows for the training set\"\n"
     ]
    },
    {
     "data": {
      "text/html": [
       "257"
      ],
      "text/latex": [
       "257"
      ],
      "text/markdown": [
       "257"
      ],
      "text/plain": [
       "[1] 257"
      ]
     },
     "metadata": {},
     "output_type": "display_data"
    },
    {
     "name": "stdout",
     "output_type": "stream",
     "text": [
      "[1] \"Number of rows for the testing set\"\n"
     ]
    },
    {
     "data": {
      "text/html": [
       "46"
      ],
      "text/latex": [
       "46"
      ],
      "text/markdown": [
       "46"
      ],
      "text/plain": [
       "[1] 46"
      ]
     },
     "metadata": {},
     "output_type": "display_data"
    }
   ],
   "source": [
    "set.seed(6522048)\n",
    "\n",
    "# Partition the data set into training and testing data\n",
    "samp.size = floor(0.85*nrow(heart_data))\n",
    "\n",
    "# Training set\n",
    "print(\"Number of rows for the training set\")\n",
    "train_ind = sample(seq_len(nrow(heart_data)), size = samp.size)\n",
    "train.data = heart_data[train_ind,]\n",
    "nrow(train.data)\n",
    "\n",
    "# Testing set \n",
    "print(\"Number of rows for the testing set\")\n",
    "test.data = heart_data[-train_ind,]\n",
    "nrow(test.data)"
   ]
  },
  {
   "cell_type": "code",
   "execution_count": 17,
   "metadata": {},
   "outputs": [
    {
     "name": "stderr",
     "output_type": "stream",
     "text": [
      "randomForest 4.6-14\n",
      "Type rfNews() to see new features/changes/bug fixes.\n"
     ]
    },
    {
     "data": {
      "image/png": "[encoded data removed]",
      "text/plain": [
       "plot without title"
      ]
     },
     "metadata": {},
     "output_type": "display_data"
    }
   ],
   "source": [
    "set.seed(6522048)\n",
    "library(randomForest)\n",
    "\n",
    "# checking\n",
    "#=====================================================================\n",
    "train = c()\n",
    "test = c()\n",
    "trees = c()\n",
    "\n",
    "for(i in seq(from=1, to=150, by=1)) {\n",
    "    #print(i)\n",
    "    \n",
    "    trees <- c(trees, i)\n",
    "    \n",
    "    forest_class <- randomForest(target ~ age + sex + cp + trestbps + chol + restecg + exang + ca, data=train.data, ntree = i)\n",
    "    \n",
    "    train.data.predict <- predict(forest_class, train.data, type = \"class\")\n",
    "    conf.matrix1 <- table(train.data$target, train.data.predict)\n",
    "    train_error = 1-(sum(diag(conf.matrix1)))/sum(conf.matrix1)\n",
    "    train <- c(train, train_error)\n",
    "    \n",
    "    test.data.predict <- predict(forest_class, test.data, type = \"class\")\n",
    "    conf.matrix2 <- table(test.data$target, test.data.predict)\n",
    "    test_error = 1-(sum(diag(conf.matrix2)))/sum(conf.matrix2)\n",
    "    test <- c(test, test_error)\n",
    "}\n",
    " \n",
    "#matplot (trees, cbind (train, test), ylim=c(0,0.5) , type = c(\"l\", \"l\"), lwd=2, col=c(\"red\",\"blue\"), ylab=\"Error\", xlab=\"number of trees\")\n",
    "#legend('topright',legend = c('training set','testing set'), col = c(\"red\",\"blue\"), lwd = 2 )\n",
    "\n",
    "plot(trees, train,type = \"l\",ylim=c(0,1.0),col = \"red\", xlab = \"Number of Trees\", ylab = \"Classification Error\")\n",
    "lines(test, type = \"l\", col = \"blue\")\n",
    "legend('topright',legend = c('training set','testing set'), col = c(\"red\",\"blue\"), lwd = 2 )"
   ]
  },
  {
   "cell_type": "code",
   "execution_count": 18,
   "metadata": {
    "scrolled": true
   },
   "outputs": [
    {
     "name": "stdout",
     "output_type": "stream",
     "text": [
      "[1] \"======================================================================================================================\"\n",
      "[1] \"Confusion Matrix: TRAINING set based on random forest model built using 60 trees\"\n"
     ]
    },
    {
     "data": {
      "text/html": [
       "<table>\n",
       "<caption>A matrix: 2 × 2 of type chr</caption>\n",
       "<thead>\n",
       "\t<tr><th></th><th scope=col>Prediction: 0</th><th scope=col>Prediction: 1</th></tr>\n",
       "</thead>\n",
       "<tbody>\n",
       "\t<tr><th scope=row>Actual: 0</th><td>117</td><td>  3</td></tr>\n",
       "\t<tr><th scope=row>Actual: 1</th><td>  2</td><td>135</td></tr>\n",
       "</tbody>\n",
       "</table>\n"
      ],
      "text/latex": [
       "A matrix: 2 × 2 of type chr\n",
       "\\begin{tabular}{r|ll}\n",
       "  & Prediction: 0 & Prediction: 1\\\\\n",
       "\\hline\n",
       "\tActual: 0 & 117 &   3\\\\\n",
       "\tActual: 1 &   2 & 135\\\\\n",
       "\\end{tabular}\n"
      ],
      "text/markdown": [
       "\n",
       "A matrix: 2 × 2 of type chr\n",
       "\n",
       "| <!--/--> | Prediction: 0 | Prediction: 1 |\n",
       "|---|---|---|\n",
       "| Actual: 0 | 117 |   3 |\n",
       "| Actual: 1 |   2 | 135 |\n",
       "\n"
      ],
      "text/plain": [
       "           train.data.predict\n",
       "            Prediction: 0 Prediction: 1\n",
       "  Actual: 0 117             3          \n",
       "  Actual: 1   2           135          "
      ]
     },
     "metadata": {},
     "output_type": "display_data"
    },
    {
     "name": "stdout",
     "output_type": "stream",
     "text": [
      "[1] \"======================================================================================================================\"\n",
      "[1] \"Confusion Matrix: TESTING set based on random forest model built using 60 trees\"\n"
     ]
    },
    {
     "data": {
      "text/html": [
       "<table>\n",
       "<caption>A matrix: 2 × 2 of type chr</caption>\n",
       "<thead>\n",
       "\t<tr><th></th><th scope=col>Prediction: 0</th><th scope=col>Prediction: 1</th></tr>\n",
       "</thead>\n",
       "<tbody>\n",
       "\t<tr><th scope=row>Actual: 0</th><td>11</td><td> 7</td></tr>\n",
       "\t<tr><th scope=row>Actual: 1</th><td> 9</td><td>19</td></tr>\n",
       "</tbody>\n",
       "</table>\n"
      ],
      "text/latex": [
       "A matrix: 2 × 2 of type chr\n",
       "\\begin{tabular}{r|ll}\n",
       "  & Prediction: 0 & Prediction: 1\\\\\n",
       "\\hline\n",
       "\tActual: 0 & 11 &  7\\\\\n",
       "\tActual: 1 &  9 & 19\\\\\n",
       "\\end{tabular}\n"
      ],
      "text/markdown": [
       "\n",
       "A matrix: 2 × 2 of type chr\n",
       "\n",
       "| <!--/--> | Prediction: 0 | Prediction: 1 |\n",
       "|---|---|---|\n",
       "| Actual: 0 | 11 |  7 |\n",
       "| Actual: 1 |  9 | 19 |\n",
       "\n"
      ],
      "text/plain": [
       "           test.data.predict\n",
       "            Prediction: 0 Prediction: 1\n",
       "  Actual: 0 11             7           \n",
       "  Actual: 1  9            19           "
      ]
     },
     "metadata": {},
     "output_type": "display_data"
    }
   ],
   "source": [
    "set.seed(6522048)\n",
    "library(randomForest)\n",
    "forest_class2 <- randomForest(target ~ age + sex + cp + trestbps + chol + restecg + exang + ca, data=train.data, ntree = 60)\n",
    "\n",
    "# Confusion matrix\n",
    "print(\"======================================================================================================================\")\n",
    "print('Confusion Matrix: TRAINING set based on random forest model built using 60 trees')\n",
    "train.data.predict <- predict(forest_class2, train.data, type = \"class\")\n",
    "\n",
    "# Construct the confusion matrix\n",
    "conf.matrix <- table(train.data$target, train.data.predict)[,c('0','1')]\n",
    "rownames(conf.matrix) <- paste(\"Actual\", rownames(conf.matrix), sep = \": \")\n",
    "colnames(conf.matrix) <- paste(\"Prediction\", colnames(conf.matrix), sep = \": \")\n",
    "\n",
    "# Print nicely formatted confusion matrix\n",
    "format(conf.matrix,justify=\"centre\",digit=2)\n",
    "\n",
    "\n",
    "print(\"======================================================================================================================\")\n",
    "print('Confusion Matrix: TESTING set based on random forest model built using 60 trees')\n",
    "test.data.predict <- predict(forest_class2, test.data, type = \"class\")\n",
    "\n",
    "# Construct the confusion matrix\n",
    "conf.matrix <- table(test.data$target, test.data.predict)[,c('0','1')]\n",
    "rownames(conf.matrix) <- paste(\"Actual\", rownames(conf.matrix), sep = \": \")\n",
    "colnames(conf.matrix) <- paste(\"Prediction\", colnames(conf.matrix), sep = \": \")\n",
    "\n",
    "# Print nicely formatted confusion matrix\n",
    "format(conf.matrix,justify=\"centre\",digit=2)"
   ]
  },
  {
   "cell_type": "markdown",
   "metadata": {},
   "source": [
    " "
   ]
  },
  {
   "cell_type": "markdown",
   "metadata": {
    "deletable": false,
    "editable": false
   },
   "source": [
    "## Random Forest Regression Model\n",
    "\n",
    "You have been asked to create a random forest regression model for maximum heart rate achieved using the variables age *(age)*, sex *(sex)*, chest pain type *(cp)*, resting blood pressure *(trestbps)*, cholesterol measurement *(chol)*, resting electrocardiographic measurement *(restecg)*, exercise-induced angina *(exang)*, slope of peak exercise *(slope)*, and number of major vessels *(ca)*. Before writing any code, review Section 6 of the Summary Report template to see the questions you will be answering about your model.\n",
    "\n",
    "Run your scripts to get the outputs of your analysis. Then use the outputs to answer the questions in your summary report.\n",
    "\n",
    "**Note: Use the + (plus) button to add new code blocks, if needed.**"
   ]
  },
  {
   "cell_type": "code",
   "execution_count": 19,
   "metadata": {},
   "outputs": [
    {
     "name": "stdout",
     "output_type": "stream",
     "text": [
      "[1] \"head\"\n"
     ]
    },
    {
     "data": {
      "text/html": [
       "<table>\n",
       "<caption>A data.frame: 6 × 9</caption>\n",
       "<thead>\n",
       "\t<tr><th scope=col>thalach</th><th scope=col>age</th><th scope=col>sex</th><th scope=col>cp</th><th scope=col>trestbps</th><th scope=col>chol</th><th scope=col>restecg</th><th scope=col>exang</th><th scope=col>ca</th></tr>\n",
       "\t<tr><th scope=col>&lt;int&gt;</th><th scope=col>&lt;int&gt;</th><th scope=col>&lt;fct&gt;</th><th scope=col>&lt;fct&gt;</th><th scope=col>&lt;int&gt;</th><th scope=col>&lt;int&gt;</th><th scope=col>&lt;fct&gt;</th><th scope=col>&lt;fct&gt;</th><th scope=col>&lt;fct&gt;</th></tr>\n",
       "</thead>\n",
       "<tbody>\n",
       "\t<tr><td>146</td><td>62</td><td>1</td><td>2</td><td>130</td><td>231</td><td>1</td><td>0</td><td>3</td></tr>\n",
       "\t<tr><td>131</td><td>58</td><td>0</td><td>0</td><td>130</td><td>197</td><td>1</td><td>0</td><td>0</td></tr>\n",
       "\t<tr><td>171</td><td>60</td><td>0</td><td>3</td><td>150</td><td>240</td><td>1</td><td>0</td><td>0</td></tr>\n",
       "\t<tr><td>144</td><td>63</td><td>1</td><td>0</td><td>140</td><td>187</td><td>0</td><td>1</td><td>2</td></tr>\n",
       "\t<tr><td> 99</td><td>62</td><td>1</td><td>0</td><td>120</td><td>267</td><td>1</td><td>1</td><td>2</td></tr>\n",
       "\t<tr><td>172</td><td>63</td><td>0</td><td>2</td><td>135</td><td>252</td><td>0</td><td>0</td><td>0</td></tr>\n",
       "</tbody>\n",
       "</table>\n"
      ],
      "text/latex": [
       "A data.frame: 6 × 9\n",
       "\\begin{tabular}{r|lllllllll}\n",
       " thalach & age & sex & cp & trestbps & chol & restecg & exang & ca\\\\\n",
       " <int> & <int> & <fct> & <fct> & <int> & <int> & <fct> & <fct> & <fct>\\\\\n",
       "\\hline\n",
       "\t 146 & 62 & 1 & 2 & 130 & 231 & 1 & 0 & 3\\\\\n",
       "\t 131 & 58 & 0 & 0 & 130 & 197 & 1 & 0 & 0\\\\\n",
       "\t 171 & 60 & 0 & 3 & 150 & 240 & 1 & 0 & 0\\\\\n",
       "\t 144 & 63 & 1 & 0 & 140 & 187 & 0 & 1 & 2\\\\\n",
       "\t  99 & 62 & 1 & 0 & 120 & 267 & 1 & 1 & 2\\\\\n",
       "\t 172 & 63 & 0 & 2 & 135 & 252 & 0 & 0 & 0\\\\\n",
       "\\end{tabular}\n"
      ],
      "text/markdown": [
       "\n",
       "A data.frame: 6 × 9\n",
       "\n",
       "| thalach &lt;int&gt; | age &lt;int&gt; | sex &lt;fct&gt; | cp &lt;fct&gt; | trestbps &lt;int&gt; | chol &lt;int&gt; | restecg &lt;fct&gt; | exang &lt;fct&gt; | ca &lt;fct&gt; |\n",
       "|---|---|---|---|---|---|---|---|---|\n",
       "| 146 | 62 | 1 | 2 | 130 | 231 | 1 | 0 | 3 |\n",
       "| 131 | 58 | 0 | 0 | 130 | 197 | 1 | 0 | 0 |\n",
       "| 171 | 60 | 0 | 3 | 150 | 240 | 1 | 0 | 0 |\n",
       "| 144 | 63 | 1 | 0 | 140 | 187 | 0 | 1 | 2 |\n",
       "|  99 | 62 | 1 | 0 | 120 | 267 | 1 | 1 | 2 |\n",
       "| 172 | 63 | 0 | 2 | 135 | 252 | 0 | 0 | 0 |\n",
       "\n"
      ],
      "text/plain": [
       "  thalach age sex cp trestbps chol restecg exang ca\n",
       "1 146     62  1   2  130      231  1       0     3 \n",
       "2 131     58  0   0  130      197  1       0     0 \n",
       "3 171     60  0   3  150      240  1       0     0 \n",
       "4 144     63  1   0  140      187  0       1     2 \n",
       "5  99     62  1   0  120      267  1       1     2 \n",
       "6 172     63  0   2  135      252  0       0     0 "
      ]
     },
     "metadata": {},
     "output_type": "display_data"
    }
   ],
   "source": [
    "heart_data <- read.csv(file='heart_disease.csv', header=TRUE, sep=\",\")\n",
    "\n",
    "# Converting appropriate variables to factors  \n",
    "heart_data <- within(heart_data, {\n",
    "   target <- factor(target)\n",
    "   sex <- factor(sex)\n",
    "   cp <- factor(cp)\n",
    "   fbs <- factor(fbs)\n",
    "   restecg <- factor(restecg)\n",
    "   exang <- factor(exang)\n",
    "   slope <- factor(slope)\n",
    "   ca <- factor(ca)\n",
    "   thal <- factor(thal)\n",
    "})\n",
    "\n",
    "vars <- c('thalach','age', 'sex', 'cp', 'trestbps', 'chol', 'restecg', 'exang', 'ca')\n",
    "\n",
    "heart_data <- heart_data[vars]\n",
    "\n",
    "print(\"head\")\n",
    "head(heart_data, 6)"
   ]
  },
  {
   "cell_type": "code",
   "execution_count": 20,
   "metadata": {},
   "outputs": [
    {
     "name": "stdout",
     "output_type": "stream",
     "text": [
      "[1] \"Number of rows for the training set\"\n"
     ]
    },
    {
     "data": {
      "text/html": [
       "242"
      ],
      "text/latex": [
       "242"
      ],
      "text/markdown": [
       "242"
      ],
      "text/plain": [
       "[1] 242"
      ]
     },
     "metadata": {},
     "output_type": "display_data"
    },
    {
     "name": "stdout",
     "output_type": "stream",
     "text": [
      "[1] \"Number of rows for the testing set\"\n"
     ]
    },
    {
     "data": {
      "text/html": [
       "61"
      ],
      "text/latex": [
       "61"
      ],
      "text/markdown": [
       "61"
      ],
      "text/plain": [
       "[1] 61"
      ]
     },
     "metadata": {},
     "output_type": "display_data"
    }
   ],
   "source": [
    "set.seed(6522048)\n",
    "\n",
    "# Partition the data set into training and testing data\n",
    "samp.size = floor(0.80*nrow(heart_data))\n",
    "\n",
    "# Training set\n",
    "print(\"Number of rows for the training set\")\n",
    "train_ind = sample(seq_len(nrow(heart_data)), size = samp.size)\n",
    "train.data = heart_data[train_ind,]\n",
    "nrow(train.data)\n",
    "\n",
    "# Testing set \n",
    "print(\"Number of rows for the testing set\")\n",
    "test.data = heart_data[-train_ind,]\n",
    "nrow(test.data)"
   ]
  },
  {
   "cell_type": "code",
   "execution_count": 21,
   "metadata": {},
   "outputs": [
    {
     "data": {
      "image/png": "[encoded data removed]",
      "text/plain": [
       "plot without title"
      ]
     },
     "metadata": {},
     "output_type": "display_data"
    }
   ],
   "source": [
    "set.seed(6522048)\n",
    "library(randomForest)\n",
    "\n",
    "# Root mean squared error\n",
    "RMSE = function(pred, obs) {\n",
    "    return(sqrt( sum( (pred - obs)^2 )/length(pred) ) )\n",
    "}\n",
    "\n",
    "\n",
    "# checking\n",
    "#=====================================================================\n",
    "train = c()\n",
    "test = c()\n",
    "trees = c()\n",
    "\n",
    "for(i in seq(from=1, to=80, by=1)) {\n",
    "    trees <- c(trees, i)\n",
    "    forest_reg <- randomForest(thalach ~ age + sex + cp + trestbps + chol + restecg + exang + ca, data=train.data, ntree = i)\n",
    "    \n",
    "    pred <- predict(forest_reg, newdata=train.data, type='response')\n",
    "    rmse_train <-  RMSE(pred, train.data$thalach)\n",
    "    train <- c(train, rmse_train)\n",
    "    \n",
    "    pred <- predict(forest_reg, newdata=test.data, type='response')\n",
    "     rmse_test <-  RMSE(pred, test.data$thalach)\n",
    "    test <- c(test, rmse_test)\n",
    "}\n",
    " \n",
    "plot(trees, train,type = \"l\",ylim=c(0,50),col = \"red\", xlab = \"Number of Trees\", ylab = \"Root Mean Squared Error\")\n",
    "lines(test, type = \"l\", col = \"blue\")\n",
    "legend('topright',legend = c('training set','testing set'), col = c(\"red\",\"blue\"), lwd = 2 )"
   ]
  },
  {
   "cell_type": "code",
   "execution_count": 22,
   "metadata": {},
   "outputs": [
    {
     "name": "stdout",
     "output_type": "stream",
     "text": [
      "[1] \"======================================================================================================================\"\n",
      "[1] \"Root Mean Squared Error: TRAINING set based on random forest model built using 30 trees\"\n"
     ]
    },
    {
     "data": {
      "text/html": [
       "11.5619035402449"
      ],
      "text/latex": [
       "11.5619035402449"
      ],
      "text/markdown": [
       "11.5619035402449"
      ],
      "text/plain": [
       "[1] 11.5619"
      ]
     },
     "metadata": {},
     "output_type": "display_data"
    },
    {
     "name": "stdout",
     "output_type": "stream",
     "text": [
      "[1] \"======================================================================================================================\"\n",
      "[1] \"Root Mean Squared Error: TESTING set based on random forest model built using 30 trees\"\n"
     ]
    },
    {
     "data": {
      "text/html": [
       "20.7871930092736"
      ],
      "text/latex": [
       "20.7871930092736"
      ],
      "text/markdown": [
       "20.7871930092736"
      ],
      "text/plain": [
       "[1] 20.78719"
      ]
     },
     "metadata": {},
     "output_type": "display_data"
    }
   ],
   "source": [
    "set.seed(6522048)\n",
    "library(randomForest)\n",
    "forest_reg2 <- randomForest(thalach ~ age + sex + cp + trestbps + chol + restecg + exang + ca, data=train.data, ntree = 30)\n",
    "\n",
    "\n",
    "# Root mean squared error\n",
    "RMSE = function(pred, obs) {\n",
    "    return(sqrt( sum( (pred - obs)^2 )/length(pred) ) )\n",
    "}\n",
    "\n",
    "print(\"======================================================================================================================\")\n",
    "print('Root Mean Squared Error: TRAINING set based on random forest model built using 30 trees')\n",
    "pred <- predict(forest_reg2, newdata=train.data, type='response')\n",
    "RMSE(pred, train.data$thalach)\n",
    "\n",
    "\n",
    "print(\"======================================================================================================================\")\n",
    "print('Root Mean Squared Error: TESTING set based on random forest model built using 30 trees')\n",
    "pred <- predict(forest_reg2, newdata=test.data, type='response')\n",
    "RMSE(pred, test.data$thalach)"
   ]
  },
  {
   "cell_type": "markdown",
   "metadata": {
    "deletable": false,
    "editable": false
   },
   "source": [
    "## End of Project Two Jupyter Notebook\n",
    "The HTML output can be downloaded by clicking **File**, then **Download as**, then **HTML**. Be sure to answer all of the questions in the Summary Report template for Project Two, and to include your completed Jupyter Notebook scripts as part of your submission."
   ]
  }
 ],
 "metadata": {
  "kernelspec": {
   "display_name": "R",
   "language": "R",
   "name": "ir"
  },
  "language_info": {
   "codemirror_mode": "r",
   "file_extension": ".r",
   "mimetype": "text/x-r-source",
   "name": "R",
   "pygments_lexer": "r",
   "version": "3.4.4"
  }
 },
 "nbformat": 4,
 "nbformat_minor": 2
}
